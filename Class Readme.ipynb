{
 "cells": [
  {
   "cell_type": "markdown",
   "metadata": {},
   "source": [
    "# Classes"
   ]
  },
  {
   "cell_type": "markdown",
   "metadata": {},
   "source": [
    "There are two material classes to use `mat_lib` and `mat_map`, they are both contained in `material.py`."
   ]
  },
  {
   "cell_type": "code",
   "execution_count": 1,
   "metadata": {
    "collapsed": true
   },
   "outputs": [],
   "source": [
    "from material import mat_lib, mat_map\n",
    "from mesh import Cell, Mesh\n",
    "import numpy as np"
   ]
  },
  {
   "cell_type": "markdown",
   "metadata": {},
   "source": [
    "1. [Cell Readme](#Cell-Readme)\n",
    "1. [Cell API](#Cell-API)\n",
    "1. [Material Readme](#Material-Readme)\n",
    "1. [Material API Summary](#Material-API)\n",
    "1. [Mesh Readme](#Mesh-Readme)\n",
    "1. [Mesh API Summary](#Mesh-API)\n"
   ]
  },
  {
   "cell_type": "markdown",
   "metadata": {},
   "source": [
    "# Cell Readme"
   ]
  },
  {
   "cell_type": "markdown",
   "metadata": {},
   "source": [
    "Initialize a cell using a tuple index, and a dictionary that contains mesh parameters required to create the cell."
   ]
  },
  {
   "cell_type": "code",
   "execution_count": 2,
   "metadata": {
    "collapsed": true
   },
   "outputs": [],
   "source": [
    "index = (1,1)\n",
    "mesh_params = {'x_cell': 4,  #REQ: number of cells along the x-axis\n",
    "               'y_cell': 4,  #OP: cells on y-axis (def to x_cell)\n",
    "               'cell_length': 2.5 #REQ: cell length\n",
    "              }\n",
    "cell = Cell(index, mesh_params)"
   ]
  },
  {
   "cell_type": "markdown",
   "metadata": {},
   "source": [
    "Once initialized there are automatically calculated quantities accessed using function calls:"
   ]
  },
  {
   "cell_type": "code",
   "execution_count": 3,
   "metadata": {},
   "outputs": [
    {
     "data": {
      "text/plain": [
       "(1, 1)"
      ]
     },
     "execution_count": 3,
     "metadata": {},
     "output_type": "execute_result"
    }
   ],
   "source": [
    "cell.index() # Cell index"
   ]
  },
  {
   "cell_type": "code",
   "execution_count": 4,
   "metadata": {},
   "outputs": [
    {
     "data": {
      "text/plain": [
       "[6, 7, 11, 12]"
      ]
     },
     "execution_count": 4,
     "metadata": {},
     "output_type": "execute_result"
    }
   ],
   "source": [
    "cell.global_idx() # Nodes"
   ]
  },
  {
   "cell_type": "code",
   "execution_count": 5,
   "metadata": {},
   "outputs": [
    {
     "data": {
      "text/plain": [
       "2.5"
      ]
     },
     "execution_count": 5,
     "metadata": {},
     "output_type": "execute_result"
    }
   ],
   "source": [
    "cell.length()"
   ]
  },
  {
   "cell_type": "code",
   "execution_count": 6,
   "metadata": {},
   "outputs": [
    {
     "data": {
      "text/plain": [
       "6.25"
      ]
     },
     "execution_count": 6,
     "metadata": {},
     "output_type": "execute_result"
    }
   ],
   "source": [
    "cell.area()"
   ]
  },
  {
   "cell_type": "markdown",
   "metadata": {},
   "source": [
    "If the cell is on a boundary, it will have a dictionary with the appropriate boundaries:"
   ]
  },
  {
   "cell_type": "code",
   "execution_count": 7,
   "metadata": {},
   "outputs": [],
   "source": [
    "index2 = (4,4)\n",
    "cell2 = Cell(index2, mesh_params)"
   ]
  },
  {
   "cell_type": "code",
   "execution_count": 8,
   "metadata": {},
   "outputs": [
    {
     "data": {
      "text/plain": [
       "{'x_max': None, 'y_max': None}"
      ]
     },
     "execution_count": 8,
     "metadata": {},
     "output_type": "execute_result"
    }
   ],
   "source": [
    "cell2.bounds()"
   ]
  },
  {
   "cell_type": "markdown",
   "metadata": {},
   "source": [
    "If it is _not_ on a boundary, the dictionary will be empty, allowing you to use this to determine if it is a boundary cell:"
   ]
  },
  {
   "cell_type": "code",
   "execution_count": 9,
   "metadata": {},
   "outputs": [
    {
     "name": "stdout",
     "output_type": "stream",
     "text": [
      "cell at (1, 1) is NOT a boundary cell\n",
      "cell at (4, 4) is a boundary cell\n"
     ]
    }
   ],
   "source": [
    "for c in [cell, cell2]:     # cell is NOT a boundary, cell2 IS\n",
    "    if c.bounds():\n",
    "        print('cell at ' + str(c.index()) + ' is a boundary cell')\n",
    "    if not c.bounds():\n",
    "        print('cell at ' + str(c.index()) + ' is NOT a boundary cell')"
   ]
  },
  {
   "cell_type": "markdown",
   "metadata": {},
   "source": [
    "The bounds are `x_min`, `x_max`, `y_min`, and `y_max`. They are also set using the same `cell.bounds()` method:"
   ]
  },
  {
   "cell_type": "code",
   "execution_count": 10,
   "metadata": {},
   "outputs": [
    {
     "name": "stdout",
     "output_type": "stream",
     "text": [
      "{'y_max': None, 'x_max': 'refl'}\n"
     ]
    }
   ],
   "source": [
    "cell2.bounds('x_max', 'refl')\n",
    "print cell2.bounds()"
   ]
  },
  {
   "cell_type": "markdown",
   "metadata": {},
   "source": [
    "Trying to set a bound that it doesn't have will result in a key error:"
   ]
  },
  {
   "cell_type": "code",
   "execution_count": 11,
   "metadata": {},
   "outputs": [
    {
     "ename": "KeyError",
     "evalue": "'Cell does not have bound x_min'",
     "output_type": "error",
     "traceback": [
      "\u001b[0;31m---------------------------------------------------------------------------\u001b[0m",
      "\u001b[0;31mKeyError\u001b[0m                                  Traceback (most recent call last)",
      "\u001b[0;32m<ipython-input-11-3b7629ddcd5e>\u001b[0m in \u001b[0;36m<module>\u001b[0;34m()\u001b[0m\n\u001b[0;32m----> 1\u001b[0;31m \u001b[0mcell2\u001b[0m\u001b[0;34m.\u001b[0m\u001b[0mbounds\u001b[0m\u001b[0;34m(\u001b[0m\u001b[0;34m'x_min'\u001b[0m\u001b[0;34m,\u001b[0m \u001b[0;34m'refl'\u001b[0m\u001b[0;34m)\u001b[0m\u001b[0;34m\u001b[0m\u001b[0m\n\u001b[0m",
      "\u001b[0;32m/home/josh/repos/BART-lite/mesh.pyc\u001b[0m in \u001b[0;36mbounds\u001b[0;34m(self, bound, value)\u001b[0m\n\u001b[1;32m    147\u001b[0m         \u001b[0;32mreturn\u001b[0m \u001b[0mself\u001b[0m\u001b[0;34m.\u001b[0m\u001b[0m_bounds\u001b[0m\u001b[0;34m[\u001b[0m\u001b[0mbound\u001b[0m\u001b[0;34m]\u001b[0m\u001b[0;34m\u001b[0m\u001b[0m\n\u001b[1;32m    148\u001b[0m     \u001b[0;32melif\u001b[0m \u001b[0mbound\u001b[0m \u001b[0;32mand\u001b[0m \u001b[0;32mnot\u001b[0m \u001b[0mbound\u001b[0m \u001b[0;32min\u001b[0m \u001b[0mself\u001b[0m\u001b[0;34m.\u001b[0m\u001b[0m_bounds\u001b[0m\u001b[0;34m:\u001b[0m\u001b[0;34m\u001b[0m\u001b[0m\n\u001b[0;32m--> 149\u001b[0;31m       \u001b[0;32mraise\u001b[0m \u001b[0mKeyError\u001b[0m\u001b[0;34m(\u001b[0m\u001b[0;34m\"Cell does not have bound \"\u001b[0m \u001b[0;34m+\u001b[0m \u001b[0mstr\u001b[0m\u001b[0;34m(\u001b[0m\u001b[0mbound\u001b[0m\u001b[0;34m)\u001b[0m\u001b[0;34m)\u001b[0m\u001b[0;34m\u001b[0m\u001b[0m\n\u001b[0m\u001b[1;32m    150\u001b[0m     \u001b[0;32melse\u001b[0m\u001b[0;34m:\u001b[0m\u001b[0;34m\u001b[0m\u001b[0m\n\u001b[1;32m    151\u001b[0m       \u001b[0;32mreturn\u001b[0m \u001b[0mself\u001b[0m\u001b[0;34m.\u001b[0m\u001b[0m_bounds\u001b[0m\u001b[0;34m\u001b[0m\u001b[0m\n",
      "\u001b[0;31mKeyError\u001b[0m: 'Cell does not have bound x_min'"
     ]
    }
   ],
   "source": [
    "cell2.bounds('x_min', 'refl')"
   ]
  },
  {
   "cell_type": "markdown",
   "metadata": {},
   "source": [
    "If a cell is defined by passing a material map `mat_map`, you can access the material properties using the same syntax as the `mat_map.get` function:"
   ]
  },
  {
   "cell_type": "code",
   "execution_count": 12,
   "metadata": {
    "collapsed": true
   },
   "outputs": [],
   "source": [
    "file_loc = './tests/testData/materials/'\n",
    "files = [file_loc + m for m in ['test_mat.xml', 'test_mat2.xml']]\n",
    "lib = mat_lib(n_grps = 2, files = files)\n",
    "layout = \"\"\"1 1 1 1\n",
    "            1 2 2 1\n",
    "            1 2 2 1\n",
    "            1 1 1 1\"\"\"\n",
    "layout_dict = {'1':'test_mat2', '2': 'test_mat'}\n",
    "mmap = mat_map(lib = lib, layout = layout, layout_dict = layout_dict, \n",
    "               x_max = 10, n=20)\n",
    "index = (1,1)\n",
    "mesh_params = {'x_cell': 4,  #REQ: number of cells along the x-axis\n",
    "               'y_cell': 4,  #OP: cells on y-axis (def to x_cell)\n",
    "               'cell_length': 2.5 #REQ: cell length\n",
    "              }\n",
    "cell = Cell(index, mesh_params, mat_map = mmap)"
   ]
  },
  {
   "cell_type": "markdown",
   "metadata": {},
   "source": [
    "**MAKE SURE THE DIMENSIONS OF THE MATERIAL MAP MATCH THE MESH PARAMETERS OR THEY WON'T LINE UP**"
   ]
  },
  {
   "cell_type": "code",
   "execution_count": 13,
   "metadata": {},
   "outputs": [
    {
     "name": "stdout",
     "output_type": "stream",
     "text": [
      "[ 20.  30.]\n",
      "test_mat\n"
     ]
    }
   ],
   "source": [
    "print cell.get('sig_t')\n",
    "print cell.get('id')"
   ]
  },
  {
   "cell_type": "markdown",
   "metadata": {},
   "source": [
    "# Cell API"
   ]
  },
  {
   "cell_type": "markdown",
   "metadata": {},
   "source": [
    "Initialization:"
   ]
  },
  {
   "cell_type": "code",
   "execution_count": 14,
   "metadata": {
    "collapsed": true
   },
   "outputs": [],
   "source": [
    "index = (1,1)\n",
    "mesh_params = {'x_cell': 4,  #REQ: number of cells along the x-axis\n",
    "               'y_cell': 4,  #OP: cells on y-axis (def to x_cell)\n",
    "               'cell_length': 2.5 #REQ: cell length\n",
    "              }\n",
    "cell = Cell(index, mesh_params)"
   ]
  },
  {
   "cell_type": "markdown",
   "metadata": {},
   "source": [
    "Calculated Properties:"
   ]
  },
  {
   "cell_type": "code",
   "execution_count": 15,
   "metadata": {},
   "outputs": [
    {
     "name": "stdout",
     "output_type": "stream",
     "text": [
      "[6, 7, 11, 12]\n",
      "2.5\n",
      "6.25\n"
     ]
    }
   ],
   "source": [
    "print cell.global_idx()\n",
    "print cell.length()\n",
    "print cell.area()"
   ]
  },
  {
   "cell_type": "markdown",
   "metadata": {},
   "source": [
    "If on a boundary, `cell.bounds()` will return a dictionary with the boundaries or an empty dictionary."
   ]
  },
  {
   "cell_type": "code",
   "execution_count": 16,
   "metadata": {},
   "outputs": [
    {
     "name": "stdout",
     "output_type": "stream",
     "text": [
      "{}\n"
     ]
    }
   ],
   "source": [
    "print cell.bounds()"
   ]
  },
  {
   "cell_type": "code",
   "execution_count": 17,
   "metadata": {},
   "outputs": [
    {
     "data": {
      "text/plain": [
       "{'x_max': None, 'y_max': None}"
      ]
     },
     "execution_count": 17,
     "metadata": {},
     "output_type": "execute_result"
    }
   ],
   "source": [
    "index2 = (4,4)\n",
    "boundary_cell = Cell(index2, mesh_params)\n",
    "boundary_cell.bounds()"
   ]
  },
  {
   "cell_type": "markdown",
   "metadata": {},
   "source": [
    "Cell bounds are also set or called using the bounds function:"
   ]
  },
  {
   "cell_type": "code",
   "execution_count": 18,
   "metadata": {},
   "outputs": [
    {
     "name": "stdout",
     "output_type": "stream",
     "text": [
      "{'y_max': 'refl', 'x_max': 'vac'}\n",
      "vac\n"
     ]
    }
   ],
   "source": [
    "boundary_cell.bounds('y_max', 'refl')\n",
    "boundary_cell.bounds('x_max', 'vac')\n",
    "print boundary_cell.bounds()\n",
    "print boundary_cell.bounds('x_max')"
   ]
  },
  {
   "cell_type": "markdown",
   "metadata": {},
   "source": [
    "If you define a material map, material properties can be retrieved using `get`"
   ]
  },
  {
   "cell_type": "code",
   "execution_count": 19,
   "metadata": {
    "collapsed": true
   },
   "outputs": [],
   "source": [
    "file_loc = './tests/testData/materials/'\n",
    "files = [file_loc + m for m in ['test_mat.xml', 'test_mat2.xml']]\n",
    "lib = mat_lib(n_grps = 2, files = files)\n",
    "layout = \"\"\"1 1 1 1\n",
    "            1 2 2 1\n",
    "            1 2 2 1\n",
    "            1 1 1 1\"\"\"\n",
    "layout_dict = {'1':'test_mat2', '2': 'test_mat'}\n",
    "mmap = mat_map(lib = lib, layout = layout, layout_dict = layout_dict, \n",
    "               x_max = 10, n=20)\n",
    "index = (1,1)\n",
    "mesh_params = {'x_cell': 4,  #REQ: number of cells along the x-axis\n",
    "               'y_cell': 4,  #OP: cells on y-axis (def to x_cell)\n",
    "               'cell_length': 2.5 #REQ: cell length\n",
    "              }\n",
    "cell = Cell(index, mesh_params, mat_map = mmap)"
   ]
  },
  {
   "cell_type": "code",
   "execution_count": 20,
   "metadata": {},
   "outputs": [
    {
     "data": {
      "text/plain": [
       "array([ 20.,  30.])"
      ]
     },
     "execution_count": 20,
     "metadata": {},
     "output_type": "execute_result"
    }
   ],
   "source": [
    "cell.get('sig_t')"
   ]
  },
  {
   "cell_type": "markdown",
   "metadata": {},
   "source": [
    "# Material Readme"
   ]
  },
  {
   "cell_type": "markdown",
   "metadata": {},
   "source": [
    "## Mat_lib"
   ]
  },
  {
   "cell_type": "markdown",
   "metadata": {},
   "source": [
    "`mat_lib` is the **Material Library**, and holds all the problem materials. This class should be used when info about a specific material, or all the materials is required. \n",
    "\n",
    "To initialize, it requires a list of all the desired material `xml` files, and the number of energy groups in the desired group structure, `n_grps`:"
   ]
  },
  {
   "cell_type": "code",
   "execution_count": 21,
   "metadata": {
    "collapsed": true
   },
   "outputs": [],
   "source": [
    "file_loc = './tests/testData/materials/'\n",
    "files = [file_loc + m for m in ['test_mat.xml', 'test_mat2.xml']]\n",
    "lib = mat_lib(n_grps = 2, files = files)"
   ]
  },
  {
   "cell_type": "markdown",
   "metadata": {},
   "source": [
    "The library can also be intialized with only the number of groups, and then materials added using `mat_lib.add`, this is probably more useful if iterating through all the files in a directory. `n_grps` is always required at initialization."
   ]
  },
  {
   "cell_type": "code",
   "execution_count": 22,
   "metadata": {},
   "outputs": [],
   "source": [
    "lib2 = mat_lib(n_grps = 2)\n",
    "for f in files:\n",
    "    lib2.add(f)"
   ]
  },
  {
   "cell_type": "markdown",
   "metadata": {},
   "source": [
    "Two utility functions return info about the materials, `ids` returns the material IDs and `props` shows all the properties that each material has, or the properties of a specific material id."
   ]
  },
  {
   "cell_type": "code",
   "execution_count": 23,
   "metadata": {},
   "outputs": [
    {
     "data": {
      "text/plain": [
       "['test_mat', 'test_mat2']"
      ]
     },
     "execution_count": 23,
     "metadata": {},
     "output_type": "execute_result"
    }
   ],
   "source": [
    "lib.ids()"
   ]
  },
  {
   "cell_type": "code",
   "execution_count": 24,
   "metadata": {},
   "outputs": [
    {
     "data": {
      "text/plain": [
       "{'test_mat': [['name', 'id'],\n",
       "  ['nu'],\n",
       "  ['chi', 'g_thermal'],\n",
       "  ['sig_s', 'sig_a', 'sig_f', 'sig_t'],\n",
       "  ['diff_coef_ua',\n",
       "   'diff_coef',\n",
       "   'chi_nu_sig_f',\n",
       "   'inv_sig_t',\n",
       "   'sig_t_ua',\n",
       "   'ksi_ua']],\n",
       " 'test_mat2': [['name', 'id'],\n",
       "  ['nu'],\n",
       "  ['chi', 'g_thermal'],\n",
       "  ['sig_s', 'sig_a', 'sig_f', 'sig_t'],\n",
       "  ['diff_coef_ua',\n",
       "   'diff_coef',\n",
       "   'chi_nu_sig_f',\n",
       "   'inv_sig_t',\n",
       "   'sig_t_ua',\n",
       "   'ksi_ua']]}"
      ]
     },
     "execution_count": 24,
     "metadata": {},
     "output_type": "execute_result"
    }
   ],
   "source": [
    "lib.props()"
   ]
  },
  {
   "cell_type": "code",
   "execution_count": 25,
   "metadata": {},
   "outputs": [
    {
     "data": {
      "text/plain": [
       "[['name', 'id'],\n",
       " ['nu'],\n",
       " ['chi', 'g_thermal'],\n",
       " ['sig_s', 'sig_a', 'sig_f', 'sig_t'],\n",
       " ['diff_coef_ua',\n",
       "  'diff_coef',\n",
       "  'chi_nu_sig_f',\n",
       "  'inv_sig_t',\n",
       "  'sig_t_ua',\n",
       "  'ksi_ua']]"
      ]
     },
     "execution_count": 25,
     "metadata": {},
     "output_type": "execute_result"
    }
   ],
   "source": [
    "lib.props('test_mat')"
   ]
  },
  {
   "cell_type": "markdown",
   "metadata": {},
   "source": [
    "Number of groups can be accessed using two methods:"
   ]
  },
  {
   "cell_type": "code",
   "execution_count": 26,
   "metadata": {},
   "outputs": [
    {
     "data": {
      "text/plain": [
       "2"
      ]
     },
     "execution_count": 26,
     "metadata": {},
     "output_type": "execute_result"
    }
   ],
   "source": [
    "lib.n_grps()"
   ]
  },
  {
   "cell_type": "code",
   "execution_count": 27,
   "metadata": {},
   "outputs": [
    {
     "data": {
      "text/plain": [
       "2"
      ]
     },
     "execution_count": 27,
     "metadata": {},
     "output_type": "execute_result"
    }
   ],
   "source": [
    "lib.get('n_grps')"
   ]
  },
  {
   "cell_type": "markdown",
   "metadata": {},
   "source": [
    "#### Accessing Data"
   ]
  },
  {
   "cell_type": "markdown",
   "metadata": {},
   "source": [
    "The main method to access data is `get`. This will either return:\n",
    "- A dictionary containing all the materials as keys, and the desired property as values **or**\n",
    "- The value of the property for a particular material."
   ]
  },
  {
   "cell_type": "code",
   "execution_count": 28,
   "metadata": {},
   "outputs": [
    {
     "data": {
      "text/plain": [
       "{'test_mat': array([ 20.,  30.]), 'test_mat2': array([ 10.,  20.])}"
      ]
     },
     "execution_count": 28,
     "metadata": {},
     "output_type": "execute_result"
    }
   ],
   "source": [
    "# Get dictionary of all sig_t values:\n",
    "lib.get('sig_t')"
   ]
  },
  {
   "cell_type": "code",
   "execution_count": 29,
   "metadata": {},
   "outputs": [
    {
     "data": {
      "text/plain": [
       "array([ 20.,  30.])"
      ]
     },
     "execution_count": 29,
     "metadata": {},
     "output_type": "execute_result"
    }
   ],
   "source": [
    "# Get values for a specific material:\n",
    "lib.get('sig_t', mat_id = 'test_mat')"
   ]
  },
  {
   "cell_type": "markdown",
   "metadata": {},
   "source": [
    "Note this is identical to using:"
   ]
  },
  {
   "cell_type": "code",
   "execution_count": 30,
   "metadata": {},
   "outputs": [
    {
     "data": {
      "text/plain": [
       "array([ 20.,  30.])"
      ]
     },
     "execution_count": 30,
     "metadata": {},
     "output_type": "execute_result"
    }
   ],
   "source": [
    "lib.get('sig_t')['test_mat']"
   ]
  },
  {
   "cell_type": "markdown",
   "metadata": {},
   "source": [
    "To get a property per steradian, use `get_per_str`:"
   ]
  },
  {
   "cell_type": "code",
   "execution_count": 31,
   "metadata": {},
   "outputs": [
    {
     "data": {
      "text/plain": [
       "array([ 1.59154943,  2.38732415])"
      ]
     },
     "execution_count": 31,
     "metadata": {},
     "output_type": "execute_result"
    }
   ],
   "source": [
    "lib.get_per_str('sig_t', mat_id='test_mat')"
   ]
  },
  {
   "cell_type": "markdown",
   "metadata": {},
   "source": [
    "Other functions will return cell corrections and bd corrections using the same syntax:"
   ]
  },
  {
   "cell_type": "code",
   "execution_count": 32,
   "metadata": {},
   "outputs": [
    {
     "name": "stdout",
     "output_type": "stream",
     "text": [
      "{'test_mat2': array([ 120.,  120.]), 'test_mat': array([ 70.,  70.])}\n",
      "{'test_mat2': 120.0, 'test_mat': 70.0}\n"
     ]
    }
   ],
   "source": [
    "print lib.cell_correction_ua(np.array([[1.0, 1.0],[1.0,1.0]]))\n",
    "print lib.bd_correction_ua(np.array([1.0, 1.0]))"
   ]
  },
  {
   "cell_type": "markdown",
   "metadata": {},
   "source": [
    "## MAT_MAP"
   ]
  },
  {
   "cell_type": "markdown",
   "metadata": {},
   "source": [
    "`mat_map` is a **material mapping** that takes the problem material layout and connects it to the materials contained in the material library."
   ]
  },
  {
   "cell_type": "markdown",
   "metadata": {},
   "source": [
    "To make a mapping, it requires\n",
    "- `lib` A material library that contains all problem materials\n",
    "- `layout` A string showing the material layout of the problem, with different values meaning different materials. This must have a square number of values to map to the square problem.\n",
    "- `layout_dict` a dictionary connecting the strings used in the layout to the material ids in the library.\n",
    "- `x_max` maximum x-value of the problem.\n",
    "- `n` number of cells along each side of the problem\n",
    "OPTIONAL\n",
    "- `x_min`, `y_min` otherwise defaults to 0\n",
    "- `y_max` otherwise defaults to `x_max`"
   ]
  },
  {
   "cell_type": "markdown",
   "metadata": {},
   "source": [
    "The layout string uses any characters to represent different materials, you can use any characters or strings that you want. For example, to have one material surrounded by another."
   ]
  },
  {
   "cell_type": "markdown",
   "metadata": {},
   "source": [
    "**Note:** The lower left of this array is the problem origin (0,0)"
   ]
  },
  {
   "cell_type": "code",
   "execution_count": 33,
   "metadata": {
    "collapsed": true
   },
   "outputs": [],
   "source": [
    "# Both of these are identical, \n",
    "# as any line breaks and extra spaces are removed. \n",
    "layout = \"\"\"1 1 1 1\n",
    "            1 2 2 1\n",
    "            1 2 2 1\n",
    "            1 1 1 1\"\"\"\n",
    "layout2 = \" 1 1 1 1 1 2 2 1 1 2 2 1 1 1 1 1\""
   ]
  },
  {
   "cell_type": "markdown",
   "metadata": {},
   "source": [
    "Next, the arbirary characters used (1 and 2 here) need to be linked back to materials in your material library. For example, we have two materials in ours:"
   ]
  },
  {
   "cell_type": "code",
   "execution_count": 34,
   "metadata": {},
   "outputs": [
    {
     "data": {
      "text/plain": [
       "['test_mat', 'test_mat2']"
      ]
     },
     "execution_count": 34,
     "metadata": {},
     "output_type": "execute_result"
    }
   ],
   "source": [
    "lib.ids()"
   ]
  },
  {
   "cell_type": "markdown",
   "metadata": {},
   "source": [
    "We link them using a dictionary, pairing the layout character with the material id:"
   ]
  },
  {
   "cell_type": "code",
   "execution_count": 35,
   "metadata": {
    "collapsed": true
   },
   "outputs": [],
   "source": [
    "layout_dict = {'1':'test_mat2', '2': 'test_mat'}"
   ]
  },
  {
   "cell_type": "markdown",
   "metadata": {},
   "source": [
    "We can then make our mapping:"
   ]
  },
  {
   "cell_type": "code",
   "execution_count": 36,
   "metadata": {
    "collapsed": true
   },
   "outputs": [],
   "source": [
    "mmap = mat_map(lib = lib, layout = layout, layout_dict = layout_dict, \n",
    "               x_max = 4, n=4)"
   ]
  },
  {
   "cell_type": "markdown",
   "metadata": {},
   "source": [
    "Now we can get material properties at any (x,y) value, or any cell index. Here, we get the name of the material, and the $\\Sigma_t$ using x and y coordinates in a tuple:"
   ]
  },
  {
   "cell_type": "code",
   "execution_count": 37,
   "metadata": {},
   "outputs": [
    {
     "name": "stdout",
     "output_type": "stream",
     "text": [
      "test_mat2\n",
      "[ 10.  20.]\n"
     ]
    }
   ],
   "source": [
    "print mmap.get('id', (0.5, 0.5))\n",
    "print mmap.get('sig_t', (0.5, 0.5))"
   ]
  },
  {
   "cell_type": "markdown",
   "metadata": {},
   "source": [
    "As expected, that location returns the correct material and properties. Cell index can also be used:"
   ]
  },
  {
   "cell_type": "code",
   "execution_count": 38,
   "metadata": {},
   "outputs": [
    {
     "name": "stdout",
     "output_type": "stream",
     "text": [
      "test_mat2\n",
      "[ 10.  20.]\n"
     ]
    }
   ],
   "source": [
    "print mmap.get('id', 1)\n",
    "print mmap.get('sig_t', 1)"
   ]
  },
  {
   "cell_type": "markdown",
   "metadata": {},
   "source": [
    "Use the same names to get cell corrections:"
   ]
  },
  {
   "cell_type": "code",
   "execution_count": 39,
   "metadata": {},
   "outputs": [
    {
     "data": {
      "text/plain": [
       "array([ 120.,  120.])"
      ]
     },
     "execution_count": 39,
     "metadata": {},
     "output_type": "execute_result"
    }
   ],
   "source": [
    "mmap.cell_correction_ua(np.array([[1.0, 1.0],[1.0,1.0]]), (0.5, 0.5))"
   ]
  },
  {
   "cell_type": "markdown",
   "metadata": {},
   "source": [
    "# Material API"
   ]
  },
  {
   "cell_type": "markdown",
   "metadata": {},
   "source": [
    "This is a summary of all functions."
   ]
  },
  {
   "cell_type": "markdown",
   "metadata": {},
   "source": [
    "## mat_lib"
   ]
  },
  {
   "cell_type": "code",
   "execution_count": 3,
   "metadata": {
    "collapsed": true
   },
   "outputs": [],
   "source": [
    "file_loc = './tests/testData/materials/'\n",
    "files = [file_loc + m for m in ['test_mat.xml', 'test_mat2.xml']]"
   ]
  },
  {
   "cell_type": "code",
   "execution_count": 4,
   "metadata": {},
   "outputs": [],
   "source": [
    "# Initialize using list of files, set tr_scatt = True to transpose the\n",
    "# scattering matrix.\n",
    "lib = mat_lib(n_grps = 2, files = files) \n",
    "\n",
    "# Add new ones using add\n",
    "lib2 = mat_lib(n_grps = 2)\n",
    "for f in files:\n",
    "    lib2.add(f)"
   ]
  },
  {
   "cell_type": "code",
   "execution_count": 42,
   "metadata": {},
   "outputs": [
    {
     "data": {
      "text/plain": [
       "['test_mat', 'test_mat2']"
      ]
     },
     "execution_count": 42,
     "metadata": {},
     "output_type": "execute_result"
    }
   ],
   "source": [
    "# Get IDs of materials\n",
    "lib.ids()"
   ]
  },
  {
   "cell_type": "code",
   "execution_count": 43,
   "metadata": {},
   "outputs": [
    {
     "data": {
      "text/plain": [
       "{'test_mat': [['name', 'id'],\n",
       "  ['nu'],\n",
       "  ['chi', 'g_thermal'],\n",
       "  ['sig_s', 'sig_a', 'sig_f', 'sig_t'],\n",
       "  ['diff_coef_ua',\n",
       "   'diff_coef',\n",
       "   'chi_nu_sig_f',\n",
       "   'inv_sig_t',\n",
       "   'sig_t_ua',\n",
       "   'ksi_ua']],\n",
       " 'test_mat2': [['name', 'id'],\n",
       "  ['nu'],\n",
       "  ['chi', 'g_thermal'],\n",
       "  ['sig_s', 'sig_a', 'sig_f', 'sig_t'],\n",
       "  ['diff_coef_ua',\n",
       "   'diff_coef',\n",
       "   'chi_nu_sig_f',\n",
       "   'inv_sig_t',\n",
       "   'sig_t_ua',\n",
       "   'ksi_ua']]}"
      ]
     },
     "execution_count": 43,
     "metadata": {},
     "output_type": "execute_result"
    }
   ],
   "source": [
    "# Get Properties of materials\n",
    "lib.props()"
   ]
  },
  {
   "cell_type": "code",
   "execution_count": 44,
   "metadata": {},
   "outputs": [
    {
     "data": {
      "text/plain": [
       "2"
      ]
     },
     "execution_count": 44,
     "metadata": {},
     "output_type": "execute_result"
    }
   ],
   "source": [
    "# Get number of groups\n",
    "lib.n_grps()"
   ]
  },
  {
   "cell_type": "code",
   "execution_count": 45,
   "metadata": {},
   "outputs": [
    {
     "data": {
      "text/plain": [
       "2"
      ]
     },
     "execution_count": 45,
     "metadata": {},
     "output_type": "execute_result"
    }
   ],
   "source": [
    "lib.get('n_grps')"
   ]
  },
  {
   "cell_type": "code",
   "execution_count": 46,
   "metadata": {},
   "outputs": [
    {
     "data": {
      "text/plain": [
       "[['name', 'id'],\n",
       " ['nu'],\n",
       " ['chi', 'g_thermal'],\n",
       " ['sig_s', 'sig_a', 'sig_f', 'sig_t'],\n",
       " ['diff_coef_ua',\n",
       "  'diff_coef',\n",
       "  'chi_nu_sig_f',\n",
       "  'inv_sig_t',\n",
       "  'sig_t_ua',\n",
       "  'ksi_ua']]"
      ]
     },
     "execution_count": 46,
     "metadata": {},
     "output_type": "execute_result"
    }
   ],
   "source": [
    "# Get properties of a specific material\n",
    "lib.props('test_mat')"
   ]
  },
  {
   "cell_type": "code",
   "execution_count": 47,
   "metadata": {},
   "outputs": [
    {
     "data": {
      "text/plain": [
       "{'test_mat': array([ 20.,  30.]), 'test_mat2': array([ 10.,  20.])}"
      ]
     },
     "execution_count": 47,
     "metadata": {},
     "output_type": "execute_result"
    }
   ],
   "source": [
    "#Get properties of all materials\n",
    "lib.get('sig_t')"
   ]
  },
  {
   "cell_type": "code",
   "execution_count": 48,
   "metadata": {},
   "outputs": [
    {
     "data": {
      "text/plain": [
       "array([ 20.,  30.])"
      ]
     },
     "execution_count": 48,
     "metadata": {},
     "output_type": "execute_result"
    }
   ],
   "source": [
    "#Get property of a specific material\n",
    "lib.get('sig_t', mat_id = 'test_mat')"
   ]
  },
  {
   "cell_type": "code",
   "execution_count": 49,
   "metadata": {},
   "outputs": [
    {
     "name": "stdout",
     "output_type": "stream",
     "text": [
      "{'test_mat2': array([ 120.,  120.]), 'test_mat': array([ 70.,  70.])}\n",
      "{'test_mat2': 120.0, 'test_mat': 70.0}\n"
     ]
    }
   ],
   "source": [
    "# Calculate corrections:\n",
    "print lib.cell_correction_ua(np.array([[1.0, 1.0],[1.0,1.0]]))\n",
    "print lib.bd_correction_ua(np.array([1.0, 1.0]))"
   ]
  },
  {
   "cell_type": "code",
   "execution_count": 50,
   "metadata": {},
   "outputs": [
    {
     "data": {
      "text/plain": [
       "array([ 70.,  70.])"
      ]
     },
     "execution_count": 50,
     "metadata": {},
     "output_type": "execute_result"
    }
   ],
   "source": [
    "# can also get for a specific material\n",
    "lib.cell_correction_ua(np.array([[1.0, 1.0],[1.0,1.0]]), \n",
    "                             mat_id='test_mat')"
   ]
  },
  {
   "cell_type": "markdown",
   "metadata": {},
   "source": [
    "## mat_map"
   ]
  },
  {
   "cell_type": "code",
   "execution_count": 5,
   "metadata": {},
   "outputs": [],
   "source": [
    "# Create layout and layout dictionary\n",
    "layout = \"\"\"1 1 1 1\n",
    "            1 2 2 1\n",
    "            1 2 2 1\n",
    "            1 1 1 1\"\"\"\n",
    "layout_dict = {'1':'test_mat2', '2': 'test_mat'}\n",
    "\n",
    "# Initialize\n",
    "mmap = mat_map(lib = lib, layout = layout, layout_dict = layout_dict, \n",
    "               x_max = 4, n=4)"
   ]
  },
  {
   "cell_type": "code",
   "execution_count": 52,
   "metadata": {},
   "outputs": [
    {
     "name": "stdout",
     "output_type": "stream",
     "text": [
      "test_mat2\n",
      "[ 10.  20.]\n",
      "test_mat2\n",
      "[ 10.  20.]\n"
     ]
    }
   ],
   "source": [
    "# Get values at locations, (x,y) or cell index k\n",
    "print mmap.get('id', (0.5, 0.5))\n",
    "print mmap.get('sig_t', (0.5, 0.5))\n",
    "print mmap.get('id', 1)\n",
    "print mmap.get('sig_t', 1)"
   ]
  },
  {
   "cell_type": "code",
   "execution_count": 53,
   "metadata": {},
   "outputs": [
    {
     "data": {
      "text/plain": [
       "array([ 120.,  120.])"
      ]
     },
     "execution_count": 53,
     "metadata": {},
     "output_type": "execute_result"
    }
   ],
   "source": [
    "# Get corrections at locations using the same syntax\n",
    "mmap.cell_correction_ua(np.array([[1.0, 1.0],[1.0,1.0]]), (0.5, 0.5))\n",
    "mmap.cell_correction_ua(np.array([[1.0, 1.0],[1.0,1.0]]), 1)"
   ]
  },
  {
   "cell_type": "markdown",
   "metadata": {},
   "source": [
    "# Mesh Readme"
   ]
  },
  {
   "cell_type": "markdown",
   "metadata": {},
   "source": [
    "The `Mesh` class creates cells for a problem with a given number of cells per side and a total dimension."
   ]
  },
  {
   "cell_type": "markdown",
   "metadata": {},
   "source": [
    "A mesh requires:\n",
    "- `mesh_cells` how many mesh cells per side of the domain\n",
    "- `domain_upper` the upper bound of the domain (lower assumed to be 0)\n",
    "- `mat_map` material mapping\n",
    "\n",
    "Make sure your `mat_map` dimensions match the `domain_upper`. Here we use 10 for both `x_max` and `domain upper`"
   ]
  },
  {
   "cell_type": "code",
   "execution_count": 6,
   "metadata": {},
   "outputs": [],
   "source": [
    "mmap = mat_map(lib = lib, layout = layout, layout_dict = layout_dict, \n",
    "               x_max = 10, n=4)\n",
    "mesh_cells = 4\n",
    "domain_upper = 10\n",
    "mesh = Mesh(mesh_cells, domain_upper, mmap)"
   ]
  },
  {
   "cell_type": "markdown",
   "metadata": {},
   "source": [
    "Now we can access many properties of the mesh:"
   ]
  },
  {
   "cell_type": "code",
   "execution_count": 7,
   "metadata": {},
   "outputs": [
    {
     "name": "stdout",
     "output_type": "stream",
     "text": [
      "16\n",
      "25\n"
     ]
    }
   ],
   "source": [
    "print mesh.n_cell()\n",
    "print mesh.n_node()"
   ]
  },
  {
   "cell_type": "code",
   "execution_count": 8,
   "metadata": {},
   "outputs": [
    {
     "name": "stdout",
     "output_type": "stream",
     "text": [
      "4\n",
      "5\n"
     ]
    }
   ],
   "source": [
    "print mesh.x_cell()\n",
    "print mesh.x_node()"
   ]
  },
  {
   "cell_type": "code",
   "execution_count": 9,
   "metadata": {},
   "outputs": [
    {
     "name": "stdout",
     "output_type": "stream",
     "text": [
      "4\n",
      "5\n"
     ]
    }
   ],
   "source": [
    "print mesh.y_cell()\n",
    "print mesh.y_node()"
   ]
  },
  {
   "cell_type": "code",
   "execution_count": 10,
   "metadata": {},
   "outputs": [
    {
     "data": {
      "text/plain": [
       "2.5"
      ]
     },
     "execution_count": 10,
     "metadata": {},
     "output_type": "execute_result"
    }
   ],
   "source": [
    "mesh.cell_length()"
   ]
  },
  {
   "cell_type": "markdown",
   "metadata": {},
   "source": [
    "and can get all the cells:"
   ]
  },
  {
   "cell_type": "code",
   "execution_count": 11,
   "metadata": {},
   "outputs": [
    {
     "data": {
      "text/plain": [
       "[<mesh.Cell at 0x7f84a12e1c90>,\n",
       " <mesh.Cell at 0x7f84a12e1cd0>,\n",
       " <mesh.Cell at 0x7f84a12e1d10>,\n",
       " <mesh.Cell at 0x7f84a12e1d50>,\n",
       " <mesh.Cell at 0x7f84a12e1d90>,\n",
       " <mesh.Cell at 0x7f84a12e1dd0>,\n",
       " <mesh.Cell at 0x7f84a15e6810>,\n",
       " <mesh.Cell at 0x7f84a12e1e10>,\n",
       " <mesh.Cell at 0x7f84a12e1e50>,\n",
       " <mesh.Cell at 0x7f84a12e1e90>,\n",
       " <mesh.Cell at 0x7f84a12e1ed0>,\n",
       " <mesh.Cell at 0x7f84a12e1f10>,\n",
       " <mesh.Cell at 0x7f84a12e1f50>,\n",
       " <mesh.Cell at 0x7f84a12e1f90>,\n",
       " <mesh.Cell at 0x7f84a12e1fd0>,\n",
       " <mesh.Cell at 0x7f84a1226050>]"
      ]
     },
     "execution_count": 11,
     "metadata": {},
     "output_type": "execute_result"
    }
   ],
   "source": [
    "mesh.cells()"
   ]
  },
  {
   "cell_type": "code",
   "execution_count": 13,
   "metadata": {},
   "outputs": [
    {
     "name": "stdout",
     "output_type": "stream",
     "text": [
      "Boundary cell  (0, 0) test_mat2 {'x_min': None, 'y_min': None}\n",
      "Boundary cell  (0, 1) test_mat2 {'x_min': None}\n",
      "Boundary cell  (0, 2) test_mat2 {'x_min': None}\n",
      "Boundary cell  (0, 3) test_mat2 {'x_min': None, 'y_max': None}\n",
      "Boundary cell  (1, 0) test_mat2 {'y_min': None}\n",
      "Interior cell  (1, 1) test_mat\n",
      "Interior cell  (1, 2) test_mat\n",
      "Boundary cell  (1, 3) test_mat2 {'y_max': None}\n",
      "Boundary cell  (2, 0) test_mat2 {'y_min': None}\n",
      "Interior cell  (2, 1) test_mat\n",
      "Interior cell  (2, 2) test_mat\n",
      "Boundary cell  (2, 3) test_mat2 {'y_max': None}\n",
      "Boundary cell  (3, 0) test_mat2 {'y_min': None, 'x_max': None}\n",
      "Boundary cell  (3, 1) test_mat2 {'x_max': None}\n",
      "Boundary cell  (3, 2) test_mat2 {'x_max': None}\n",
      "Boundary cell  (3, 3) test_mat2 {'y_max': None, 'x_max': None}\n"
     ]
    }
   ],
   "source": [
    "for cell in mesh.cells():\n",
    "    if cell.bounds():\n",
    "        print 'Boundary cell ', cell.index(), cell.get('id'), cell.bounds()\n",
    "    else:\n",
    "        print 'Interior cell ', cell.index(), cell.get('id')"
   ]
  }
 ],
 "metadata": {
  "kernelspec": {
   "display_name": "Python [default]",
   "language": "python",
   "name": "python2"
  },
  "language_info": {
   "codemirror_mode": {
    "name": "ipython",
    "version": 2
   },
   "file_extension": ".py",
   "mimetype": "text/x-python",
   "name": "python",
   "nbconvert_exporter": "python",
   "pygments_lexer": "ipython2",
   "version": "2.7.13"
  }
 },
 "nbformat": 4,
 "nbformat_minor": 2
}
